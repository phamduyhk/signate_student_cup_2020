{
 "cells": [
  {
   "cell_type": "code",
   "execution_count": 1,
   "metadata": {},
   "outputs": [],
   "source": [
    "import pandas as pd\n",
    "import numpy as np"
   ]
  },
  {
   "cell_type": "code",
   "execution_count": 2,
   "metadata": {},
   "outputs": [],
   "source": [
    "ensemble_files = [\"./output/SC_bert-large-cased_0-192_5cv_5ep.csv\", \"output/pseudo_bert-large-cased_0-100_5cv_8ep.csv\", \"output/pseudo_bert-large-cased_0-192_5cv_4ep.csv\"\n",
    "                  ]\n"
   ]
  },
  {
   "cell_type": "code",
   "execution_count": 3,
   "metadata": {},
   "outputs": [],
   "source": [
    "data = []\n",
    "for file in ensemble_files:\n",
    "    data.append(pd.read_csv(file))"
   ]
  },
  {
   "cell_type": "code",
   "execution_count": 4,
   "metadata": {},
   "outputs": [],
   "source": [
    "data1 = data[0].iloc[:,1]\n",
    "data2 = data[1].iloc[:,1]\n",
    "data3 = data[2].iloc[:,1]"
   ]
  },
  {
   "cell_type": "code",
   "execution_count": 5,
   "metadata": {},
   "outputs": [
    {
     "data": {
      "text/plain": [
       "61"
      ]
     },
     "execution_count": 5,
     "metadata": {},
     "output_type": "execute_result"
    }
   ],
   "source": [
    "sum(data1-data2)"
   ]
  },
  {
   "cell_type": "code",
   "execution_count": 6,
   "metadata": {},
   "outputs": [
    {
     "data": {
      "text/plain": [
       "73"
      ]
     },
     "execution_count": 6,
     "metadata": {},
     "output_type": "execute_result"
    }
   ],
   "source": [
    "sum(data1-data3)"
   ]
  },
  {
   "cell_type": "code",
   "execution_count": 7,
   "metadata": {},
   "outputs": [
    {
     "data": {
      "text/plain": [
       "12"
      ]
     },
     "execution_count": 7,
     "metadata": {},
     "output_type": "execute_result"
    }
   ],
   "source": [
    "sum(data2-data3)"
   ]
  },
  {
   "cell_type": "code",
   "execution_count": 14,
   "metadata": {},
   "outputs": [],
   "source": [
    "ensem = pd.read_csv(\"output/pseudo_bert-large-cased_0-64_5cv_8ep.csv\")"
   ]
  },
  {
   "cell_type": "code",
   "execution_count": 15,
   "metadata": {},
   "outputs": [],
   "source": [
    "edata = ensem.iloc[:,1]"
   ]
  },
  {
   "cell_type": "code",
   "execution_count": 20,
   "metadata": {},
   "outputs": [
    {
     "data": {
      "text/plain": [
       "-17"
      ]
     },
     "execution_count": 20,
     "metadata": {},
     "output_type": "execute_result"
    }
   ],
   "source": [
    "sum(data2-edata)"
   ]
  },
  {
   "cell_type": "code",
   "execution_count": 11,
   "metadata": {},
   "outputs": [],
   "source": [
    "data4 = pd.read_csv(\"./output/prob_albert-xxlarge-v2_512_10ep.csv\")\n",
    "data4 = data4.iloc[:,1]"
   ]
  },
  {
   "cell_type": "code",
   "execution_count": 15,
   "metadata": {},
   "outputs": [
    {
     "data": {
      "text/plain": [
       "-58"
      ]
     },
     "execution_count": 15,
     "metadata": {},
     "output_type": "execute_result"
    }
   ],
   "source": [
    "sum(data2-data4)"
   ]
  },
  {
   "cell_type": "code",
   "execution_count": 16,
   "metadata": {},
   "outputs": [],
   "source": [
    "test = pd.read_csv(\"output/pseudo_bert-large-cased_0-192_10cv_8ep.csv\")\n",
    "test = test.iloc[:,1]"
   ]
  },
  {
   "cell_type": "code",
   "execution_count": 17,
   "metadata": {},
   "outputs": [
    {
     "data": {
      "text/plain": [
       "27"
      ]
     },
     "execution_count": 17,
     "metadata": {},
     "output_type": "execute_result"
    }
   ],
   "source": [
    "sum(data2-test)"
   ]
  },
  {
   "cell_type": "code",
   "execution_count": 40,
   "metadata": {},
   "outputs": [
    {
     "data": {
      "text/plain": [
       "{'1': 458, '2': 118, '3': 745, '4': 421}"
      ]
     },
     "execution_count": 40,
     "metadata": {},
     "output_type": "execute_result"
    }
   ],
   "source": [
    "label = {\"1\":0, \"2\": 0, \"3\": 0, \"4\": 0}\n",
    "for item in edata:\n",
    "    for i in range(1,5):\n",
    "        if item == i:\n",
    "            label[str(i)] += 1\n",
    "label"
   ]
  },
  {
   "cell_type": "code",
   "execution_count": 2,
   "metadata": {},
   "outputs": [
    {
     "name": "stdout",
     "output_type": "stream",
     "text": [
      "Collecting pulp\n",
      "  Downloading PuLP-2.3-py3-none-any.whl (40.6 MB)\n",
      "\u001b[K     |████████████████████████████████| 40.6 MB 146 kB/s eta 0:00:01\n",
      "\u001b[?25hCollecting amply>=0.1.2\n",
      "  Downloading amply-0.1.2.tar.gz (26 kB)\n",
      "  Installing build dependencies ... \u001b[?25ldone\n",
      "\u001b[?25h  Getting requirements to build wheel ... \u001b[?25ldone\n",
      "\u001b[?25h    Preparing wheel metadata ... \u001b[?25ldone\n",
      "\u001b[?25hRequirement already satisfied: docutils>=0.3 in /opt/anaconda3/lib/python3.7/site-packages (from amply>=0.1.2->pulp) (0.15.2)\n",
      "Requirement already satisfied: pyparsing in /opt/anaconda3/lib/python3.7/site-packages (from amply>=0.1.2->pulp) (2.4.7)\n",
      "Building wheels for collected packages: amply\n",
      "  Building wheel for amply (PEP 517) ... \u001b[?25ldone\n",
      "\u001b[?25h  Created wheel for amply: filename=amply-0.1.2-py3-none-any.whl size=16573 sha256=86bedf936315bda0dec4c2124510e443c8c683735086a29a48e52766bcb5ea44\n",
      "  Stored in directory: /Users/phamduy/Library/Caches/pip/wheels/79/c3/09/0048ee46d04fd5b56f7e3bead9dcef92b2443e529e1f932e6b\n",
      "Successfully built amply\n",
      "Installing collected packages: amply, pulp\n",
      "Successfully installed amply-0.1.2 pulp-2.3\n"
     ]
    }
   ],
   "source": [
    "!pip install pulp"
   ]
  },
  {
   "cell_type": "code",
   "execution_count": 50,
   "metadata": {},
   "outputs": [],
   "source": [
    "# 実装\n",
    "import pulp  # pip install pulp==2.3\n",
    "import numpy as np\n",
    "\n",
    "\n",
    "N_CLASSES = [404, 320, 345, 674]  # @yCarbonによる推定（過去フォーラム参照）\n",
    "# {'1': 458, '2': 118, '3': 745, '4': 421}\n",
    "N_CLASSES = [458, 118, 745, 421]\n",
    "\n",
    "# 制約付き対数尤度最大化問題を解く\n",
    "def hack(prob):\n",
    "    logp = np.log(prob + 1e-16)\n",
    "    N = prob.shape[0]\n",
    "    K = prob.shape[1]\n",
    "\n",
    "    m = pulp.LpProblem('Problem', pulp.LpMaximize)  # 最大化問題\n",
    "\n",
    "    # 最適化する変数(= 提出ラベル)\n",
    "    x = pulp.LpVariable.dicts('x', [(i, j) for i in range(N) for j in range(K)], 0, 1, pulp.LpBinary)\n",
    "    \n",
    "    # log likelihood(目的関数)\n",
    "    log_likelihood = pulp.lpSum([x[(i, j)] * logp[i, j] for i in range(N) for j in range(K)])\n",
    "    m += log_likelihood\n",
    "    \n",
    "    # 各データについて，1クラスだけを予測ラベルとする制約\n",
    "    for i in range(N):\n",
    "        m += pulp.lpSum([x[(i, k)] for k in range(K)]) == 1  # i.e., SOS1\n",
    "    \n",
    "    # 各クラスについて，推定個数の合計に関する制約\n",
    "    for k in range(K):\n",
    "        m += pulp.lpSum([x[(i, k)] for i in range(N)]) == N_CLASSES[k]\n",
    "        \n",
    "    m.solve()  # 解く\n",
    "\n",
    "    assert m.status == 1  # assert 最適 <=>（実行可能解が見つからないとエラー）\n",
    "\n",
    "    x_ast = np.array([[int(x[(i, j)].value()) for j in range(K)] for i in range(N)])  # 結果の取得\n",
    "    return x_ast.argmax(axis=1) # 結果をonehotから -> {0"
   ]
  },
  {
   "cell_type": "code",
   "execution_count": 51,
   "metadata": {},
   "outputs": [
    {
     "name": "stdout",
     "output_type": "stream",
     "text": [
      "             0         1         2         3\n",
      "0     0.000189  0.000442  0.994714  0.004656\n",
      "1     0.000376  0.000247  0.996597  0.002780\n",
      "2     0.997145  0.001170  0.000301  0.001384\n",
      "3     0.009113  0.002180  0.006732  0.981975\n",
      "4     0.003244  0.001993  0.993741  0.001022\n",
      "...        ...       ...       ...       ...\n",
      "1737  0.985539  0.000650  0.000583  0.013227\n",
      "1738  0.002122  0.001023  0.217981  0.778875\n",
      "1739  0.992651  0.006659  0.000386  0.000305\n",
      "1740  0.000519  0.000165  0.997894  0.001423\n",
      "1741  0.000111  0.000944  0.998663  0.000282\n",
      "\n",
      "[1742 rows x 4 columns]\n"
     ]
    }
   ],
   "source": [
    "# デモ\n",
    "prob = []\n",
    "for item in data[2].iloc[:,2]:\n",
    "    prob.append(eval(item))\n",
    "\n",
    "prob = np.array(prob)\n",
    "df = pd.DataFrame(prob)\n",
    "\n",
    "print(df)\n",
    "# before\n",
    "# y = prob.argmax(axis=1) + 1\n",
    "\n",
    "# after\n",
    "y = hack(prob) + 1  # +0.01 ~ 0.02 on LB. depends on your model."
   ]
  },
  {
   "cell_type": "code",
   "execution_count": 52,
   "metadata": {},
   "outputs": [
    {
     "data": {
      "text/plain": [
       "{'1': 458, '2': 118, '3': 745, '4': 421}"
      ]
     },
     "execution_count": 52,
     "metadata": {},
     "output_type": "execute_result"
    }
   ],
   "source": [
    "label = {\"1\":0, \"2\": 0, \"3\": 0, \"4\": 0}\n",
    "for item in y:\n",
    "    for i in range(1,5):\n",
    "        if item == i:\n",
    "            label[str(i)] += 1\n",
    "label"
   ]
  },
  {
   "cell_type": "code",
   "execution_count": null,
   "metadata": {},
   "outputs": [],
   "source": []
  },
  {
   "cell_type": "code",
   "execution_count": 64,
   "metadata": {},
   "outputs": [
    {
     "name": "stdout",
     "output_type": "stream",
     "text": [
      "0.46471600688468157\n"
     ]
    }
   ],
   "source": [
    "filename = \"output/pseudo_bert-large-cased_0-192_5cv_4ep.csv\"\n",
    "all_prob = None\n",
    "df = pd.read_csv(filename, header=None)\n",
    "array = np.zeros(shape=(len(df), 4))\n",
    "for i, item in enumerate(df.iloc[:, 2]):\n",
    "    arr = eval(item)\n",
    "    array[i] = arr\n",
    "\n",
    "s = 0\n",
    "label3 = 0\n",
    "for item in array:\n",
    "    for i, v in enumerate(item):\n",
    "        if v > 0.994:\n",
    "            s += 1\n",
    "            break\n",
    "    if \n",
    "\n",
    "print(s/len(df))\n"
   ]
  },
  {
   "cell_type": "code",
   "execution_count": null,
   "metadata": {},
   "outputs": [],
   "source": []
  }
 ],
 "metadata": {
  "kernelspec": {
   "display_name": "Python 3",
   "language": "python",
   "name": "python3"
  },
  "language_info": {
   "codemirror_mode": {
    "name": "ipython",
    "version": 3
   },
   "file_extension": ".py",
   "mimetype": "text/x-python",
   "name": "python",
   "nbconvert_exporter": "python",
   "pygments_lexer": "ipython3",
   "version": "3.7.7"
  }
 },
 "nbformat": 4,
 "nbformat_minor": 2
}
